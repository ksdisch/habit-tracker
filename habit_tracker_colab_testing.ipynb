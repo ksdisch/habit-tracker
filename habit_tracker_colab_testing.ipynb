{
 "cells": [
  {
   "cell_type": "markdown",
   "id": "52bbbc02",
   "metadata": {
    "id": "52bbbc02"
   },
   "source": [
    "\n",
    "# Don't Miss Two Days — Habit Tracker (Colab Test Notebook)\n",
    "\n",
    "This notebook lets you **simulate** or **actually test** the core logic for the \"Don't Miss Two Days in a Row\" habit tracker that reads your **Todoist** recurring tasks and produces a **morning report** of habits you **missed yesterday**, plus an optional **in-danger** flag if you missed something two days in a row.\n",
    "\n",
    "**You can run this notebook in two modes:**\n",
    "- **MOCK mode (default):** No API tokens needed. We generate fake habits and completions so you can see the whole flow working end-to-end.\n",
    "- **LIVE mode:** Provide your `TODOIST_TOKEN` and point to your `Next Actions` → `Next Recurring Actions` section. The notebook will pull your real tasks, log today's completions, and generate a real morning report.\n",
    "\n",
    "> Every code cell includes comments and print statements so you can follow what's happening.\n"
   ]
  },
  {
   "cell_type": "markdown",
   "id": "66b2c4a6",
   "metadata": {
    "id": "66b2c4a6"
   },
   "source": [
    "## 1) Setup"
   ]
  },
  {
   "cell_type": "code",
   "execution_count": null,
   "id": "df230878",
   "metadata": {
    "colab": {
     "base_uri": "https://localhost:8080/"
    },
    "executionInfo": {
     "elapsed": 231,
     "status": "ok",
     "timestamp": 1755234680685,
     "user": {
      "displayName": "Kyle Disch",
      "userId": "10368678942020286168"
     },
     "user_tz": 300
    },
    "id": "df230878",
    "outputId": "9b974f72-914c-4b9f-c071-4360d187e609"
   },
   "outputs": [],
   "source": [
    "\n",
    "# If you run in pure Colab, basics like 'requests' are already available.\n",
    "# Uncomment if you need them.\n",
    "%pip install requests python-dotenv\n",
    "\n",
    "%pip install -r requirements.txt\n"
   ]
  },
  {
   "cell_type": "code",
   "execution_count": null,
   "id": "67924f2f",
   "metadata": {},
   "outputs": [],
   "source": [
    "\n",
    "from dotenv import load_dotenv\n",
    "load_dotenv()  # loads variables from .env into os.environ"
   ]
  },
  {
   "cell_type": "code",
   "execution_count": null,
   "id": "ce648ba5",
   "metadata": {},
   "outputs": [],
   "source": [
    "\n",
    "import os\n",
    "import sqlite3\n",
    "import json\n",
    "import requests\n",
    "import datetime as dt\n",
    "from zoneinfo import ZoneInfo  # Available in Python 3.9+ (Colab is OK)\n",
    "from getpass import getpass\n",
    "\n",
    "print(\"✅ Imports ready\")\n"
   ]
  },
  {
   "cell_type": "markdown",
   "id": "256f5d81",
   "metadata": {
    "id": "256f5d81"
   },
   "source": [
    "\n",
    "## 2) Configuration\n",
    "\n",
    "- Set `USE_MOCK = True` to simulate habits and completions with fake data.\n",
    "- Set `USE_MOCK = False` for **LIVE** Todoist mode and provide your token + names.\n",
    "\n",
    "**Important:** In LIVE mode we only **read** completions via the Activity Log. We don't modify your tasks.\n"
   ]
  },
  {
   "cell_type": "code",
   "execution_count": null,
   "id": "598b0cc3",
   "metadata": {
    "colab": {
     "base_uri": "https://localhost:8080/"
    },
    "executionInfo": {
     "elapsed": 61,
     "status": "ok",
     "timestamp": 1755234680696,
     "user": {
      "displayName": "Kyle Disch",
      "userId": "10368678942020286168"
     },
     "user_tz": 300
    },
    "id": "598b0cc3",
    "outputId": "61d4444a-1cf3-40a0-c904-6a6b2149fb89"
   },
   "outputs": [],
   "source": [
    "\n",
    "# ---- Core switches ----\n",
    "USE_MOCK = True  # ← switch to False to hit Todoist for real\n",
    "\n",
    "# ---- Timezone ----\n",
    "TIMEZONE = \"America/Chicago\"  # change if needed\n",
    "TZ = ZoneInfo(TIMEZONE)\n",
    "\n",
    "# ---- Todoist (LIVE mode only) ----\n",
    "# If you flip USE_MOCK=False, either paste your token here OR leave empty\n",
    "# and you'll be prompted securely.\n",
    "TODOIST_TOKEN = os.environ.get(\"TODOIST_TOKEN\", \"\").strip()\n",
    "\n",
    "PROJECT_NAME = \"Next Actions\"\n",
    "SECTION_NAME = \"Next Recurring Actions\"\n",
    "\n",
    "# ---- Database file (local to Colab runtime) ----\n",
    "DB_PATH = \"habits_test.db\"\n",
    "\n",
    "print(f\"USE_MOCK = {USE_MOCK}\")\n",
    "print(f\"DB_PATH  = {DB_PATH}\")\n"
   ]
  },
  {
   "cell_type": "markdown",
   "id": "17f0bcc5",
   "metadata": {
    "id": "17f0bcc5"
   },
   "source": [
    "## 3) Database helpers"
   ]
  },
  {
   "cell_type": "code",
   "execution_count": null,
   "id": "b18dbd0f",
   "metadata": {
    "colab": {
     "base_uri": "https://localhost:8080/"
    },
    "executionInfo": {
     "elapsed": 22,
     "status": "ok",
     "timestamp": 1755234680698,
     "user": {
      "displayName": "Kyle Disch",
      "userId": "10368678942020286168"
     },
     "user_tz": 300
    },
    "id": "b18dbd0f",
    "outputId": "ebaa9248-67a4-4a7b-d9bf-399f7bd166a4"
   },
   "outputs": [],
   "source": [
    "\n",
    "def get_db():\n",
    "    con = sqlite3.connect(DB_PATH)\n",
    "    con.execute(\"CREATE TABLE IF NOT EXISTS habits (task_id TEXT PRIMARY KEY, name TEXT)\")\n",
    "    con.execute(\"CREATE TABLE IF NOT EXISTS logs (log_date TEXT, task_id TEXT, completed INTEGER, PRIMARY KEY (log_date, task_id))\")\n",
    "    return con\n",
    "\n",
    "def reset_db():\n",
    "    if os.path.exists(DB_PATH):\n",
    "        os.remove(DB_PATH)\n",
    "        print(\"🗑️ Removed existing DB to start fresh.\")\n",
    "    else:\n",
    "        print(\"ℹ️ No DB found; starting fresh.\")\n",
    "\n",
    "print(\"✅ DB helpers defined\")\n"
   ]
  },
  {
   "cell_type": "markdown",
   "id": "0381e539",
   "metadata": {
    "id": "0381e539"
   },
   "source": [
    "## 4) Todoist + logic helpers"
   ]
  },
  {
   "cell_type": "code",
   "execution_count": null,
   "id": "5440caee",
   "metadata": {
    "colab": {
     "base_uri": "https://localhost:8080/"
    },
    "executionInfo": {
     "elapsed": 27,
     "status": "ok",
     "timestamp": 1755234680710,
     "user": {
      "displayName": "Kyle Disch",
      "userId": "10368678942020286168"
     },
     "user_tz": 300
    },
    "id": "5440caee",
    "outputId": "4535e11f-51f9-4882-ba0c-0f8208fd11c3"
   },
   "outputs": [],
   "source": [
    "\n",
    "API = \"https://api.todoist.com\"\n",
    "\n",
    "def get_headers():\n",
    "    global TODOIST_TOKEN\n",
    "    if not TODOIST_TOKEN:\n",
    "        TODOIST_TOKEN = getpass(\"Enter TODOIST_TOKEN (input hidden): \").strip()\n",
    "    return {\"Authorization\": f\"Bearer {TODOIST_TOKEN}\"}\n",
    "\n",
    "def get_project_id(project_name):\n",
    "    r = requests.get(f\"{API}/rest/v2/projects\", headers=get_headers())\n",
    "    r.raise_for_status()\n",
    "    for p in r.json():\n",
    "        if p[\"name\"] == project_name:\n",
    "            print(f\"📁 Found project '{project_name}' → {p['id']}\")\n",
    "            return p[\"id\"]\n",
    "    raise ValueError(f\"Project '{project_name}' not found.\")\n",
    "\n",
    "def get_section_id(project_id, section_name):\n",
    "    r = requests.get(f\"{API}/rest/v2/sections\", params={\"project_id\": project_id}, headers=get_headers())\n",
    "    r.raise_for_status()\n",
    "    for s in r.json():\n",
    "        if s[\"name\"] == section_name:\n",
    "            print(f\"📑 Found section '{section_name}' → {s['id']}\")\n",
    "            return s[\"id\"]\n",
    "    raise ValueError(f\"Section '{section_name}' not found in project {project_id}.\")\n",
    "\n",
    "def get_recurring_tasks(project_id, section_id):\n",
    "    r = requests.get(f\"{API}/rest/v2/tasks\", params={\"project_id\": project_id}, headers=get_headers())\n",
    "    r.raise_for_status()\n",
    "    items = [t for t in r.json() if t.get(\"section_id\")==section_id and t.get(\"due\",{}).get(\"is_recurring\")]\n",
    "    print(f\"🧾 Recurring tasks in section: {len(items)} found\")\n",
    "    return items\n",
    "\n",
    "def completed_on_date(task_id, date_obj):\n",
    "    # Query Todoist Activity Log for completed events between local day's bounds\n",
    "    start = dt.datetime.combine(date_obj, dt.time(0,0), tzinfo=TZ).isoformat()\n",
    "    end   = dt.datetime.combine(date_obj, dt.time(23,59,59), tzinfo=TZ).isoformat()\n",
    "\n",
    "    params = {\n",
    "        \"event_type\": \"completed\",\n",
    "        \"object_type\": \"item\",\n",
    "        \"object_id\": task_id,\n",
    "        \"limit\": 100,\n",
    "        \"since\": start,\n",
    "        \"until\": end\n",
    "    }\n",
    "    r = requests.get(f\"{API}/sync/v9/activity/get\", params=params, headers=get_headers())\n",
    "    r.raise_for_status()\n",
    "    events = r.json().get(\"events\", [])\n",
    "    return len(events) > 0\n",
    "\n",
    "def upsert_habit(con, task_id, name):\n",
    "    con.execute(\"INSERT OR REPLACE INTO habits(task_id, name) VALUES(?,?)\", (task_id, name))\n",
    "\n",
    "def write_log(con, date_obj, task_id, completed_bool):\n",
    "    con.execute(\"INSERT OR REPLACE INTO logs(log_date, task_id, completed) VALUES(?,?,?)\",\n",
    "                (date_obj.isoformat(), task_id, 1 if completed_bool else 0))\n",
    "\n",
    "print(\"✅ API + logic helpers ready\")\n"
   ]
  },
  {
   "cell_type": "markdown",
   "id": "39763523",
   "metadata": {
    "id": "39763523"
   },
   "source": [
    "## 5) Nightly job\n",
    "Logs whether each habit was completed **today**."
   ]
  },
  {
   "cell_type": "code",
   "execution_count": null,
   "id": "210b1ee7",
   "metadata": {
    "colab": {
     "base_uri": "https://localhost:8080/"
    },
    "executionInfo": {
     "elapsed": 9,
     "status": "ok",
     "timestamp": 1755234680716,
     "user": {
      "displayName": "Kyle Disch",
      "userId": "10368678942020286168"
     },
     "user_tz": 300
    },
    "id": "210b1ee7",
    "outputId": "0b0d90ab-077c-4b16-d05a-78054e475588"
   },
   "outputs": [],
   "source": [
    "\n",
    "def nightly_run_live():\n",
    "    print(\"🌙 Nightly (LIVE) starting...\")\n",
    "    con = get_db()\n",
    "    today = dt.date.today()\n",
    "\n",
    "    pid = get_project_id(PROJECT_NAME)\n",
    "    sid = get_section_id(pid, SECTION_NAME)\n",
    "    tasks = get_recurring_tasks(pid, sid)\n",
    "\n",
    "    for t in tasks:\n",
    "        task_id = t[\"id\"]\n",
    "        name = t[\"content\"]\n",
    "        upsert_habit(con, task_id, name)\n",
    "        did = completed_on_date(task_id, today)\n",
    "        print(f\"   • {name:30}  completed_today={did}\")\n",
    "        write_log(con, today, task_id, did)\n",
    "\n",
    "    con.commit()\n",
    "    con.close()\n",
    "    print(\"✅ Nightly (LIVE) finished. Data written to DB.\")\n",
    "\n",
    "def nightly_run_mock():\n",
    "    print(\"🌙 Nightly (MOCK) starting...\")\n",
    "    con = get_db()\n",
    "    today = dt.date.today()\n",
    "\n",
    "    # Pretend these are your three habits\n",
    "    fake = [\n",
    "        (\"123\", \"Meditate\"),\n",
    "        (\"456\", \"Read 15 minutes\"),\n",
    "        (\"789\", \"Workout\"),\n",
    "    ]\n",
    "\n",
    "    # Deterministic pattern so output is easy to follow\n",
    "    for i, (task_id, name) in enumerate(fake):\n",
    "        upsert_habit(con, task_id, name)\n",
    "        did = (today.day % (i+2) == 0)  # simple pattern; change if you like\n",
    "        print(f\"   • {name:30}  completed_today={did}\")\n",
    "        write_log(con, today, task_id, did)\n",
    "\n",
    "    con.commit()\n",
    "    con.close()\n",
    "    print(\"✅ Nightly (MOCK) finished. Data written to DB.\")\n",
    "\n",
    "if USE_MOCK:\n",
    "    nightly_run_mock()\n",
    "else:\n",
    "    nightly_run_live()\n"
   ]
  },
  {
   "cell_type": "markdown",
   "id": "2312d594",
   "metadata": {
    "id": "2312d594"
   },
   "source": [
    "## 6) Morning report\n",
    "Finds what you **missed yesterday**, and flags items missed **two days straight**."
   ]
  },
  {
   "cell_type": "code",
   "execution_count": null,
   "id": "0bb6462f",
   "metadata": {
    "colab": {
     "base_uri": "https://localhost:8080/"
    },
    "executionInfo": {
     "elapsed": 50,
     "status": "ok",
     "timestamp": 1755234680766,
     "user": {
      "displayName": "Kyle Disch",
      "userId": "10368678942020286168"
     },
     "user_tz": 300
    },
    "id": "0bb6462f",
    "outputId": "c0b7ccbf-b74d-4169-b069-71f273c597ac"
   },
   "outputs": [],
   "source": [
    "\n",
    "def two_day_flag(con, task_id, yday):\n",
    "    d1 = con.execute(\"SELECT completed FROM logs WHERE log_date=? AND task_id=?\", (yday.isoformat(), task_id)).fetchone()\n",
    "    d2 = con.execute(\"SELECT completed FROM logs WHERE log_date=? AND task_id=?\", ((yday - dt.timedelta(days=1)).isoformat(), task_id)).fetchone()\n",
    "    return (d1 and d1[0]==0) and (d2 and d2[0]==0)\n",
    "\n",
    "def morning_report():\n",
    "    print(\"🌅 Morning report starting...\")\n",
    "    con = get_db()\n",
    "    yday = dt.date.today() - dt.timedelta(days=1)\n",
    "\n",
    "    query = (\n",
    "        \"SELECT l.task_id, h.name, l.completed \"\n",
    "        \"FROM logs l JOIN habits h ON h.task_id = l.task_id \"\n",
    "        \"WHERE l.log_date = ? ORDER BY h.name\"\n",
    "    )\n",
    "    rows = con.execute(query, (yday.isoformat(),)).fetchall()\n",
    "\n",
    "    if not rows:\n",
    "        print(\"No data for yesterday yet. Run the nightly step first (or simulate).\")\n",
    "        con.close()\n",
    "        return\n",
    "\n",
    "    missed = [(tid, name) for (tid, name, completed) in rows if completed == 0]\n",
    "    if not missed:\n",
    "        print(\"✅ No missed habits yesterday. Great job!\")\n",
    "        con.close()\n",
    "        return\n",
    "\n",
    "    print(\"\\nYesterday’s Missed Habits:\")\n",
    "    for tid, name in missed:\n",
    "        print(f\"— {name}\")\n",
    "\n",
    "    danger = [name for (tid, name) in missed if two_day_flag(con, tid, yday)]\n",
    "    if danger:\n",
    "        print(\"\\n⚠ In danger (missed 2 days straight):\")\n",
    "        for name in danger:\n",
    "            print(f\"— {name}\")\n",
    "\n",
    "    con.close()\n",
    "    print(\"\\n✅ Morning report generated. (In a real deployment, this would be emailed or pushed.)\")\n",
    "\n",
    "morning_report()\n"
   ]
  },
  {
   "cell_type": "markdown",
   "id": "68b0f1c1",
   "metadata": {
    "id": "68b0f1c1"
   },
   "source": [
    "## 7) Inspect the database\n",
    "Peek at what was written."
   ]
  },
  {
   "cell_type": "code",
   "execution_count": null,
   "id": "2ffa09fe",
   "metadata": {},
   "outputs": [],
   "source": [
    "%pip install pandas"
   ]
  },
  {
   "cell_type": "code",
   "execution_count": null,
   "id": "d7caf8a8",
   "metadata": {
    "colab": {
     "base_uri": "https://localhost:8080/",
     "height": 339
    },
    "executionInfo": {
     "elapsed": 523,
     "status": "ok",
     "timestamp": 1755234681315,
     "user": {
      "displayName": "Kyle Disch",
      "userId": "10368678942020286168"
     },
     "user_tz": 300
    },
    "id": "d7caf8a8",
    "outputId": "9e9eb9e5-e56d-485c-f953-4d5998d919d1"
   },
   "outputs": [],
   "source": [
    "\n",
    "import pandas as pd\n",
    "\n",
    "def show_tables():\n",
    "    con = get_db()\n",
    "    habits = pd.read_sql_query(\"SELECT * FROM habits ORDER BY name\", con)\n",
    "    logs = pd.read_sql_query(\"SELECT * FROM logs ORDER BY log_date DESC, task_id\", con)\n",
    "    con.close()\n",
    "\n",
    "    print(\"\\n=== habits ===\")\n",
    "    print(habits)\n",
    "    print(\"\\n=== logs ===\")\n",
    "    print(logs)\n",
    "\n",
    "show_tables()\n"
   ]
  },
  {
   "cell_type": "markdown",
   "id": "631c2f7a",
   "metadata": {
    "id": "631c2f7a"
   },
   "source": [
    "\n",
    "## 8) (Optional) Simulate multiple days (MOCK)\n",
    "\n",
    "Run this to create data for the **past N days** so you can test the **two-days-in-a-row** warning easily.\n"
   ]
  },
  {
   "cell_type": "code",
   "execution_count": null,
   "id": "5229c17b",
   "metadata": {
    "executionInfo": {
     "elapsed": 6,
     "status": "ok",
     "timestamp": 1755234681323,
     "user": {
      "displayName": "Kyle Disch",
      "userId": "10368678942020286168"
     },
     "user_tz": 300
    },
    "id": "5229c17b"
   },
   "outputs": [],
   "source": [
    "\n",
    "def simulate_past_days_mock(days=5):\n",
    "    if not USE_MOCK:\n",
    "        print(\"This simulator only works in MOCK mode.\")\n",
    "        return\n",
    "    print(f\"🧪 Simulating the last {days} days...\")\n",
    "    reset_db()\n",
    "    con = get_db()\n",
    "\n",
    "    fake = [\n",
    "        (\"123\", \"Meditate\"),\n",
    "        (\"456\", \"Read 15 minutes\"),\n",
    "        (\"789\", \"Workout\"),\n",
    "    ]\n",
    "    for task_id, name in fake:\n",
    "        con.execute(\"INSERT OR REPLACE INTO habits(task_id,name) VALUES(?,?)\", (task_id, name))\n",
    "\n",
    "    start = dt.date.today() - dt.timedelta(days=days-1)\n",
    "    for d in (start + dt.timedelta(days=i) for i in range(days)):\n",
    "        for i, (task_id, name) in enumerate(fake):\n",
    "            # Pattern: miss alternatingly so we can see warnings\n",
    "            did = not ((d.day + i) % 2 == 0)\n",
    "            write_log(con, d, task_id, did)\n",
    "\n",
    "    con.commit(); con.close()\n",
    "    print(\"✅ Simulation done. Now re-run the Morning Report cell to see output.\")\n",
    "\n",
    "# Example: uncomment to simulate then run morning_report()\n",
    "simulate_past_days_mock(days=7)\n"
   ]
  },
  {
   "cell_type": "markdown",
   "id": "e9a4dc6e",
   "metadata": {
    "id": "e9a4dc6e"
   },
   "source": [
    "## 9) Reset database (danger)"
   ]
  },
  {
   "cell_type": "code",
   "execution_count": null,
   "id": "bd74b082",
   "metadata": {
    "colab": {
     "base_uri": "https://localhost:8080/"
    },
    "executionInfo": {
     "elapsed": 5,
     "status": "ok",
     "timestamp": 1755234681331,
     "user": {
      "displayName": "Kyle Disch",
      "userId": "10368678942020286168"
     },
     "user_tz": 300
    },
    "id": "bd74b082",
    "outputId": "ea2e47b4-f838-45f3-eacd-462696051721"
   },
   "outputs": [],
   "source": [
    "\n",
    "# Run this if you want to start clean.\n",
    "# reset_db()\n",
    "print(\"Ready. (Uncomment reset_db() above if you want to wipe the DB.)\")\n"
   ]
  }
 ],
 "metadata": {
  "colab": {
   "provenance": []
  },
  "kernelspec": {
   "display_name": ".venv",
   "language": "python",
   "name": "python3"
  },
  "language_info": {
   "codemirror_mode": {
    "name": "ipython",
    "version": 3
   },
   "file_extension": ".py",
   "mimetype": "text/x-python",
   "name": "python",
   "nbconvert_exporter": "python",
   "pygments_lexer": "ipython3",
   "version": "3.11.13"
  }
 },
 "nbformat": 4,
 "nbformat_minor": 5
}
